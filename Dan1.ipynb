{
  "nbformat": 4,
  "nbformat_minor": 0,
  "metadata": {
    "colab": {
      "provenance": []
    },
    "kernelspec": {
      "name": "python3",
      "display_name": "Python 3"
    },
    "language_info": {
      "name": "python"
    }
  },
  "cells": [
    {
      "cell_type": "code",
      "execution_count": 1,
      "metadata": {
        "colab": {
          "base_uri": "https://localhost:8080/"
        },
        "id": "wskkS1gfdlZp",
        "outputId": "6028df61-7e6c-4cd4-ee55-dd33c9a4bcc4"
      },
      "outputs": [
        {
          "output_type": "stream",
          "name": "stdout",
          "text": [
            "Hello World\n"
          ]
        }
      ],
      "source": [
        "print(\"Hello World\")"
      ]
    },
    {
      "cell_type": "markdown",
      "source": [
        "##Test"
      ],
      "metadata": {
        "id": "gvcBdLOqeBBF"
      }
    },
    {
      "cell_type": "code",
      "source": [
        "1"
      ],
      "metadata": {
        "colab": {
          "base_uri": "https://localhost:8080/"
        },
        "id": "kIREBjHZeGpf",
        "outputId": "0e35045f-6492-4539-90e2-b162e092e151"
      },
      "execution_count": 2,
      "outputs": [
        {
          "output_type": "execute_result",
          "data": {
            "text/plain": [
              "1"
            ]
          },
          "metadata": {},
          "execution_count": 2
        }
      ]
    },
    {
      "cell_type": "code",
      "source": [
        "1.1"
      ],
      "metadata": {
        "colab": {
          "base_uri": "https://localhost:8080/"
        },
        "id": "CmQX8SkueW-S",
        "outputId": "198f2ee7-1033-401a-8097-3e5aa429e188"
      },
      "execution_count": 3,
      "outputs": [
        {
          "output_type": "execute_result",
          "data": {
            "text/plain": [
              "1.1"
            ]
          },
          "metadata": {},
          "execution_count": 3
        }
      ]
    },
    {
      "cell_type": "code",
      "source": [
        "type(1)"
      ],
      "metadata": {
        "colab": {
          "base_uri": "https://localhost:8080/"
        },
        "id": "CE_Zca0iebST",
        "outputId": "33178008-f668-4646-e20e-f8163c9ffc3f"
      },
      "execution_count": 4,
      "outputs": [
        {
          "output_type": "execute_result",
          "data": {
            "text/plain": [
              "int"
            ]
          },
          "metadata": {},
          "execution_count": 4
        }
      ]
    },
    {
      "cell_type": "code",
      "source": [
        "type(1.1)"
      ],
      "metadata": {
        "colab": {
          "base_uri": "https://localhost:8080/"
        },
        "id": "uVV64Hdxef-D",
        "outputId": "437f2733-f456-4e1b-b96f-75302122eb2e"
      },
      "execution_count": 5,
      "outputs": [
        {
          "output_type": "execute_result",
          "data": {
            "text/plain": [
              "float"
            ]
          },
          "metadata": {},
          "execution_count": 5
        }
      ]
    },
    {
      "cell_type": "code",
      "source": [
        "type(\"Hello World\")"
      ],
      "metadata": {
        "colab": {
          "base_uri": "https://localhost:8080/"
        },
        "id": "zswg3gbFelEE",
        "outputId": "ebc2f6da-6145-4053-dfcb-1bc43ee5620a"
      },
      "execution_count": 6,
      "outputs": [
        {
          "output_type": "execute_result",
          "data": {
            "text/plain": [
              "str"
            ]
          },
          "metadata": {},
          "execution_count": 6
        }
      ]
    },
    {
      "cell_type": "code",
      "source": [
        "test=\"Hello World\""
      ],
      "metadata": {
        "id": "GgAXNrSfequx"
      },
      "execution_count": 7,
      "outputs": []
    },
    {
      "cell_type": "code",
      "source": [
        "True"
      ],
      "metadata": {
        "colab": {
          "base_uri": "https://localhost:8080/"
        },
        "id": "s5wbxQ2Ee08F",
        "outputId": "67d8a29a-790d-493c-cd76-4bfc06713c5c"
      },
      "execution_count": 9,
      "outputs": [
        {
          "output_type": "execute_result",
          "data": {
            "text/plain": [
              "True"
            ]
          },
          "metadata": {},
          "execution_count": 9
        }
      ]
    },
    {
      "cell_type": "code",
      "source": [
        "type(True)"
      ],
      "metadata": {
        "colab": {
          "base_uri": "https://localhost:8080/"
        },
        "id": "1c6Sdh81fAWU",
        "outputId": "2fbb05c2-aeb1-448b-b651-8920767f015b"
      },
      "execution_count": 10,
      "outputs": [
        {
          "output_type": "execute_result",
          "data": {
            "text/plain": [
              "bool"
            ]
          },
          "metadata": {},
          "execution_count": 10
        }
      ]
    },
    {
      "cell_type": "code",
      "source": [
        "true = True"
      ],
      "metadata": {
        "id": "4t5zpfTXfIkd"
      },
      "execution_count": 12,
      "outputs": []
    },
    {
      "cell_type": "code",
      "source": [
        "type (true)"
      ],
      "metadata": {
        "colab": {
          "base_uri": "https://localhost:8080/"
        },
        "id": "N9udUoZTfM19",
        "outputId": "2364ccc8-2d51-4df8-e550-b94464759e33"
      },
      "execution_count": 13,
      "outputs": [
        {
          "output_type": "execute_result",
          "data": {
            "text/plain": [
              "bool"
            ]
          },
          "metadata": {},
          "execution_count": 13
        }
      ]
    },
    {
      "cell_type": "code",
      "source": [
        "[1,2,3]"
      ],
      "metadata": {
        "colab": {
          "base_uri": "https://localhost:8080/"
        },
        "id": "Y261k5sFgCCZ",
        "outputId": "384d9e73-4ae9-4d17-a609-7db82cc5b717"
      },
      "execution_count": 15,
      "outputs": [
        {
          "output_type": "execute_result",
          "data": {
            "text/plain": [
              "[1, 2, 3]"
            ]
          },
          "metadata": {},
          "execution_count": 15
        }
      ]
    },
    {
      "cell_type": "code",
      "source": [
        "test = [1,2,3]"
      ],
      "metadata": {
        "id": "pPYRyIk9hP5_"
      },
      "execution_count": 16,
      "outputs": []
    },
    {
      "cell_type": "code",
      "source": [
        "test[0] = 10"
      ],
      "metadata": {
        "id": "ypwNcfsDpFWk"
      },
      "execution_count": 17,
      "outputs": []
    },
    {
      "cell_type": "code",
      "source": [
        "test"
      ],
      "metadata": {
        "colab": {
          "base_uri": "https://localhost:8080/"
        },
        "id": "iFkRAZy5pMmD",
        "outputId": "990bbefa-a992-440e-d43e-5753b71021d8"
      },
      "execution_count": 18,
      "outputs": [
        {
          "output_type": "execute_result",
          "data": {
            "text/plain": [
              "[10, 2, 3]"
            ]
          },
          "metadata": {},
          "execution_count": 18
        }
      ]
    },
    {
      "cell_type": "code",
      "source": [
        "(1,2,3)"
      ],
      "metadata": {
        "colab": {
          "base_uri": "https://localhost:8080/"
        },
        "id": "KnrQ7LEbpTPR",
        "outputId": "8dc7e829-ed1e-42d5-9d4e-b667dfde3e8e"
      },
      "execution_count": 19,
      "outputs": [
        {
          "output_type": "execute_result",
          "data": {
            "text/plain": [
              "(1, 2, 3)"
            ]
          },
          "metadata": {},
          "execution_count": 19
        }
      ]
    },
    {
      "cell_type": "code",
      "source": [
        "test = {\n",
        "    \"key1\":(1,2,3),\n",
        "    \"key2\": \"value2\",\n",
        "}"
      ],
      "metadata": {
        "id": "Zsbo9KIepW4Z"
      },
      "execution_count": 25,
      "outputs": []
    },
    {
      "cell_type": "code",
      "source": [
        "test.keys()"
      ],
      "metadata": {
        "colab": {
          "base_uri": "https://localhost:8080/"
        },
        "id": "OFHt8ThVp1Fi",
        "outputId": "8a47be0f-a58b-4151-af70-65b2d93853b2"
      },
      "execution_count": 26,
      "outputs": [
        {
          "output_type": "execute_result",
          "data": {
            "text/plain": [
              "dict_keys(['key1', 'key2'])"
            ]
          },
          "metadata": {},
          "execution_count": 26
        }
      ]
    },
    {
      "cell_type": "code",
      "source": [
        "test.values()"
      ],
      "metadata": {
        "colab": {
          "base_uri": "https://localhost:8080/"
        },
        "id": "XuBEVI1wpYmp",
        "outputId": "03991f4a-476c-405e-d2b4-2ba78a808b5e"
      },
      "execution_count": 28,
      "outputs": [
        {
          "output_type": "execute_result",
          "data": {
            "text/plain": [
              "dict_values([(1, 2, 3), 'value2'])"
            ]
          },
          "metadata": {},
          "execution_count": 28
        }
      ]
    },
    {
      "cell_type": "code",
      "source": [
        "type(test)"
      ],
      "metadata": {
        "colab": {
          "base_uri": "https://localhost:8080/"
        },
        "id": "s1YWuDTCqDzX",
        "outputId": "39b1ee70-9e9e-4ecf-c375-ca4e20c1efea"
      },
      "execution_count": 29,
      "outputs": [
        {
          "output_type": "execute_result",
          "data": {
            "text/plain": [
              "dict"
            ]
          },
          "metadata": {},
          "execution_count": 29
        }
      ]
    },
    {
      "cell_type": "code",
      "source": [
        "plants = {\"apple\": \"a fruit\", \"banana\":\"a herb\"}"
      ],
      "metadata": {
        "id": "vgDwgUVNqHOy"
      },
      "execution_count": 32,
      "outputs": []
    },
    {
      "cell_type": "code",
      "source": [
        "import pandas as pd\n",
        "pd.DataFrame(plants,[0,1])"
      ],
      "metadata": {
        "colab": {
          "base_uri": "https://localhost:8080/",
          "height": 112
        },
        "id": "Y7__Z7mjqe9E",
        "outputId": "7c96ec5f-1b54-4633-be35-1ec8ec5e56bf"
      },
      "execution_count": 33,
      "outputs": [
        {
          "output_type": "execute_result",
          "data": {
            "text/plain": [
              "     apple  banana\n",
              "0  a fruit  a herb\n",
              "1  a fruit  a herb"
            ],
            "text/html": [
              "\n",
              "  <div id=\"df-54732b6a-ec7e-4c39-8234-79bc38ae5265\" class=\"colab-df-container\">\n",
              "    <div>\n",
              "<style scoped>\n",
              "    .dataframe tbody tr th:only-of-type {\n",
              "        vertical-align: middle;\n",
              "    }\n",
              "\n",
              "    .dataframe tbody tr th {\n",
              "        vertical-align: top;\n",
              "    }\n",
              "\n",
              "    .dataframe thead th {\n",
              "        text-align: right;\n",
              "    }\n",
              "</style>\n",
              "<table border=\"1\" class=\"dataframe\">\n",
              "  <thead>\n",
              "    <tr style=\"text-align: right;\">\n",
              "      <th></th>\n",
              "      <th>apple</th>\n",
              "      <th>banana</th>\n",
              "    </tr>\n",
              "  </thead>\n",
              "  <tbody>\n",
              "    <tr>\n",
              "      <th>0</th>\n",
              "      <td>a fruit</td>\n",
              "      <td>a herb</td>\n",
              "    </tr>\n",
              "    <tr>\n",
              "      <th>1</th>\n",
              "      <td>a fruit</td>\n",
              "      <td>a herb</td>\n",
              "    </tr>\n",
              "  </tbody>\n",
              "</table>\n",
              "</div>\n",
              "    <div class=\"colab-df-buttons\">\n",
              "\n",
              "  <div class=\"colab-df-container\">\n",
              "    <button class=\"colab-df-convert\" onclick=\"convertToInteractive('df-54732b6a-ec7e-4c39-8234-79bc38ae5265')\"\n",
              "            title=\"Convert this dataframe to an interactive table.\"\n",
              "            style=\"display:none;\">\n",
              "\n",
              "  <svg xmlns=\"http://www.w3.org/2000/svg\" height=\"24px\" viewBox=\"0 -960 960 960\">\n",
              "    <path d=\"M120-120v-720h720v720H120Zm60-500h600v-160H180v160Zm220 220h160v-160H400v160Zm0 220h160v-160H400v160ZM180-400h160v-160H180v160Zm440 0h160v-160H620v160ZM180-180h160v-160H180v160Zm440 0h160v-160H620v160Z\"/>\n",
              "  </svg>\n",
              "    </button>\n",
              "\n",
              "  <style>\n",
              "    .colab-df-container {\n",
              "      display:flex;\n",
              "      gap: 12px;\n",
              "    }\n",
              "\n",
              "    .colab-df-convert {\n",
              "      background-color: #E8F0FE;\n",
              "      border: none;\n",
              "      border-radius: 50%;\n",
              "      cursor: pointer;\n",
              "      display: none;\n",
              "      fill: #1967D2;\n",
              "      height: 32px;\n",
              "      padding: 0 0 0 0;\n",
              "      width: 32px;\n",
              "    }\n",
              "\n",
              "    .colab-df-convert:hover {\n",
              "      background-color: #E2EBFA;\n",
              "      box-shadow: 0px 1px 2px rgba(60, 64, 67, 0.3), 0px 1px 3px 1px rgba(60, 64, 67, 0.15);\n",
              "      fill: #174EA6;\n",
              "    }\n",
              "\n",
              "    .colab-df-buttons div {\n",
              "      margin-bottom: 4px;\n",
              "    }\n",
              "\n",
              "    [theme=dark] .colab-df-convert {\n",
              "      background-color: #3B4455;\n",
              "      fill: #D2E3FC;\n",
              "    }\n",
              "\n",
              "    [theme=dark] .colab-df-convert:hover {\n",
              "      background-color: #434B5C;\n",
              "      box-shadow: 0px 1px 3px 1px rgba(0, 0, 0, 0.15);\n",
              "      filter: drop-shadow(0px 1px 2px rgba(0, 0, 0, 0.3));\n",
              "      fill: #FFFFFF;\n",
              "    }\n",
              "  </style>\n",
              "\n",
              "    <script>\n",
              "      const buttonEl =\n",
              "        document.querySelector('#df-54732b6a-ec7e-4c39-8234-79bc38ae5265 button.colab-df-convert');\n",
              "      buttonEl.style.display =\n",
              "        google.colab.kernel.accessAllowed ? 'block' : 'none';\n",
              "\n",
              "      async function convertToInteractive(key) {\n",
              "        const element = document.querySelector('#df-54732b6a-ec7e-4c39-8234-79bc38ae5265');\n",
              "        const dataTable =\n",
              "          await google.colab.kernel.invokeFunction('convertToInteractive',\n",
              "                                                    [key], {});\n",
              "        if (!dataTable) return;\n",
              "\n",
              "        const docLinkHtml = 'Like what you see? Visit the ' +\n",
              "          '<a target=\"_blank\" href=https://colab.research.google.com/notebooks/data_table.ipynb>data table notebook</a>'\n",
              "          + ' to learn more about interactive tables.';\n",
              "        element.innerHTML = '';\n",
              "        dataTable['output_type'] = 'display_data';\n",
              "        await google.colab.output.renderOutput(dataTable, element);\n",
              "        const docLink = document.createElement('div');\n",
              "        docLink.innerHTML = docLinkHtml;\n",
              "        element.appendChild(docLink);\n",
              "      }\n",
              "    </script>\n",
              "  </div>\n",
              "\n",
              "\n",
              "<div id=\"df-1ce1ef86-6993-48f5-923b-3e3f92d718dc\">\n",
              "  <button class=\"colab-df-quickchart\" onclick=\"quickchart('df-1ce1ef86-6993-48f5-923b-3e3f92d718dc')\"\n",
              "            title=\"Suggest charts\"\n",
              "            style=\"display:none;\">\n",
              "\n",
              "<svg xmlns=\"http://www.w3.org/2000/svg\" height=\"24px\"viewBox=\"0 0 24 24\"\n",
              "     width=\"24px\">\n",
              "    <g>\n",
              "        <path d=\"M19 3H5c-1.1 0-2 .9-2 2v14c0 1.1.9 2 2 2h14c1.1 0 2-.9 2-2V5c0-1.1-.9-2-2-2zM9 17H7v-7h2v7zm4 0h-2V7h2v10zm4 0h-2v-4h2v4z\"/>\n",
              "    </g>\n",
              "</svg>\n",
              "  </button>\n",
              "\n",
              "<style>\n",
              "  .colab-df-quickchart {\n",
              "      --bg-color: #E8F0FE;\n",
              "      --fill-color: #1967D2;\n",
              "      --hover-bg-color: #E2EBFA;\n",
              "      --hover-fill-color: #174EA6;\n",
              "      --disabled-fill-color: #AAA;\n",
              "      --disabled-bg-color: #DDD;\n",
              "  }\n",
              "\n",
              "  [theme=dark] .colab-df-quickchart {\n",
              "      --bg-color: #3B4455;\n",
              "      --fill-color: #D2E3FC;\n",
              "      --hover-bg-color: #434B5C;\n",
              "      --hover-fill-color: #FFFFFF;\n",
              "      --disabled-bg-color: #3B4455;\n",
              "      --disabled-fill-color: #666;\n",
              "  }\n",
              "\n",
              "  .colab-df-quickchart {\n",
              "    background-color: var(--bg-color);\n",
              "    border: none;\n",
              "    border-radius: 50%;\n",
              "    cursor: pointer;\n",
              "    display: none;\n",
              "    fill: var(--fill-color);\n",
              "    height: 32px;\n",
              "    padding: 0;\n",
              "    width: 32px;\n",
              "  }\n",
              "\n",
              "  .colab-df-quickchart:hover {\n",
              "    background-color: var(--hover-bg-color);\n",
              "    box-shadow: 0 1px 2px rgba(60, 64, 67, 0.3), 0 1px 3px 1px rgba(60, 64, 67, 0.15);\n",
              "    fill: var(--button-hover-fill-color);\n",
              "  }\n",
              "\n",
              "  .colab-df-quickchart-complete:disabled,\n",
              "  .colab-df-quickchart-complete:disabled:hover {\n",
              "    background-color: var(--disabled-bg-color);\n",
              "    fill: var(--disabled-fill-color);\n",
              "    box-shadow: none;\n",
              "  }\n",
              "\n",
              "  .colab-df-spinner {\n",
              "    border: 2px solid var(--fill-color);\n",
              "    border-color: transparent;\n",
              "    border-bottom-color: var(--fill-color);\n",
              "    animation:\n",
              "      spin 1s steps(1) infinite;\n",
              "  }\n",
              "\n",
              "  @keyframes spin {\n",
              "    0% {\n",
              "      border-color: transparent;\n",
              "      border-bottom-color: var(--fill-color);\n",
              "      border-left-color: var(--fill-color);\n",
              "    }\n",
              "    20% {\n",
              "      border-color: transparent;\n",
              "      border-left-color: var(--fill-color);\n",
              "      border-top-color: var(--fill-color);\n",
              "    }\n",
              "    30% {\n",
              "      border-color: transparent;\n",
              "      border-left-color: var(--fill-color);\n",
              "      border-top-color: var(--fill-color);\n",
              "      border-right-color: var(--fill-color);\n",
              "    }\n",
              "    40% {\n",
              "      border-color: transparent;\n",
              "      border-right-color: var(--fill-color);\n",
              "      border-top-color: var(--fill-color);\n",
              "    }\n",
              "    60% {\n",
              "      border-color: transparent;\n",
              "      border-right-color: var(--fill-color);\n",
              "    }\n",
              "    80% {\n",
              "      border-color: transparent;\n",
              "      border-right-color: var(--fill-color);\n",
              "      border-bottom-color: var(--fill-color);\n",
              "    }\n",
              "    90% {\n",
              "      border-color: transparent;\n",
              "      border-bottom-color: var(--fill-color);\n",
              "    }\n",
              "  }\n",
              "</style>\n",
              "\n",
              "  <script>\n",
              "    async function quickchart(key) {\n",
              "      const quickchartButtonEl =\n",
              "        document.querySelector('#' + key + ' button');\n",
              "      quickchartButtonEl.disabled = true;  // To prevent multiple clicks.\n",
              "      quickchartButtonEl.classList.add('colab-df-spinner');\n",
              "      try {\n",
              "        const charts = await google.colab.kernel.invokeFunction(\n",
              "            'suggestCharts', [key], {});\n",
              "      } catch (error) {\n",
              "        console.error('Error during call to suggestCharts:', error);\n",
              "      }\n",
              "      quickchartButtonEl.classList.remove('colab-df-spinner');\n",
              "      quickchartButtonEl.classList.add('colab-df-quickchart-complete');\n",
              "    }\n",
              "    (() => {\n",
              "      let quickchartButtonEl =\n",
              "        document.querySelector('#df-1ce1ef86-6993-48f5-923b-3e3f92d718dc button');\n",
              "      quickchartButtonEl.style.display =\n",
              "        google.colab.kernel.accessAllowed ? 'block' : 'none';\n",
              "    })();\n",
              "  </script>\n",
              "</div>\n",
              "\n",
              "    </div>\n",
              "  </div>\n"
            ],
            "application/vnd.google.colaboratory.intrinsic+json": {
              "type": "dataframe",
              "summary": "{\n  \"name\": \"pd\",\n  \"rows\": 2,\n  \"fields\": [\n    {\n      \"column\": \"apple\",\n      \"properties\": {\n        \"dtype\": \"string\",\n        \"num_unique_values\": 1,\n        \"samples\": [\n          \"a fruit\"\n        ],\n        \"semantic_type\": \"\",\n        \"description\": \"\"\n      }\n    },\n    {\n      \"column\": \"banana\",\n      \"properties\": {\n        \"dtype\": \"string\",\n        \"num_unique_values\": 1,\n        \"samples\": [\n          \"a herb\"\n        ],\n        \"semantic_type\": \"\",\n        \"description\": \"\"\n      }\n    }\n  ]\n}"
            }
          },
          "metadata": {},
          "execution_count": 33
        }
      ]
    },
    {
      "cell_type": "code",
      "source": [
        "squares = [1, 4, 9, 16, 25]"
      ],
      "metadata": {
        "id": "8CgACXGazhJd"
      },
      "execution_count": 36,
      "outputs": []
    },
    {
      "cell_type": "code",
      "source": [
        "squares[1]"
      ],
      "metadata": {
        "colab": {
          "base_uri": "https://localhost:8080/"
        },
        "id": "sTbca5kgzzWt",
        "outputId": "0a8903db-521b-424b-83b2-bbe88dfc3c51"
      },
      "execution_count": 37,
      "outputs": [
        {
          "output_type": "execute_result",
          "data": {
            "text/plain": [
              "4"
            ]
          },
          "metadata": {},
          "execution_count": 37
        }
      ]
    },
    {
      "cell_type": "code",
      "source": [
        "squares[-2]"
      ],
      "metadata": {
        "colab": {
          "base_uri": "https://localhost:8080/"
        },
        "id": "kET5phFv0Hu_",
        "outputId": "2c465fc4-b431-4094-9070-80cb1b79a934"
      },
      "execution_count": 38,
      "outputs": [
        {
          "output_type": "execute_result",
          "data": {
            "text/plain": [
              "16"
            ]
          },
          "metadata": {},
          "execution_count": 38
        }
      ]
    },
    {
      "cell_type": "code",
      "source": [
        "squares[:]"
      ],
      "metadata": {
        "colab": {
          "base_uri": "https://localhost:8080/"
        },
        "id": "-N-c5Q6v0QjK",
        "outputId": "cac040d2-91cf-4501-b53e-e5bd9845ab22"
      },
      "execution_count": 39,
      "outputs": [
        {
          "output_type": "execute_result",
          "data": {
            "text/plain": [
              "[1, 4, 9, 16, 25]"
            ]
          },
          "metadata": {},
          "execution_count": 39
        }
      ]
    },
    {
      "cell_type": "code",
      "source": [
        "squares[1:]"
      ],
      "metadata": {
        "colab": {
          "base_uri": "https://localhost:8080/"
        },
        "id": "6nE258Wz0Tno",
        "outputId": "edf985ef-484c-4423-9e1e-8db1202517e9"
      },
      "execution_count": 40,
      "outputs": [
        {
          "output_type": "execute_result",
          "data": {
            "text/plain": [
              "[4, 9, 16, 25]"
            ]
          },
          "metadata": {},
          "execution_count": 40
        }
      ]
    },
    {
      "cell_type": "code",
      "source": [
        "squares[:3]"
      ],
      "metadata": {
        "colab": {
          "base_uri": "https://localhost:8080/"
        },
        "id": "UNj67x2G0abk",
        "outputId": "6110fc23-8b46-4804-a306-dbeff8520039"
      },
      "execution_count": 41,
      "outputs": [
        {
          "output_type": "execute_result",
          "data": {
            "text/plain": [
              "[1, 4, 9]"
            ]
          },
          "metadata": {},
          "execution_count": 41
        }
      ]
    },
    {
      "cell_type": "code",
      "source": [
        "squares[1:3]"
      ],
      "metadata": {
        "colab": {
          "base_uri": "https://localhost:8080/"
        },
        "id": "FNzo2ODX0jk6",
        "outputId": "24726e08-8512-4baa-c983-be835fcb03ab"
      },
      "execution_count": 42,
      "outputs": [
        {
          "output_type": "execute_result",
          "data": {
            "text/plain": [
              "[4, 9]"
            ]
          },
          "metadata": {},
          "execution_count": 42
        }
      ]
    },
    {
      "cell_type": "code",
      "source": [
        "squares  = squares + [36, 49, 64, 81, 100]\n",
        "squares"
      ],
      "metadata": {
        "colab": {
          "base_uri": "https://localhost:8080/"
        },
        "id": "9m-tRI5L0mez",
        "outputId": "bbc30b49-33c5-4a01-d2fd-fd5670e35843"
      },
      "execution_count": 43,
      "outputs": [
        {
          "output_type": "execute_result",
          "data": {
            "text/plain": [
              "[1, 4, 9, 16, 25, 36, 49, 64, 81, 100]"
            ]
          },
          "metadata": {},
          "execution_count": 43
        }
      ]
    },
    {
      "cell_type": "code",
      "source": [
        "len(squares)"
      ],
      "metadata": {
        "colab": {
          "base_uri": "https://localhost:8080/"
        },
        "id": "C6tGk86503MM",
        "outputId": "e6d2dd4c-af75-4cba-a389-549f9e7dac03"
      },
      "execution_count": 44,
      "outputs": [
        {
          "output_type": "execute_result",
          "data": {
            "text/plain": [
              "10"
            ]
          },
          "metadata": {},
          "execution_count": 44
        }
      ]
    },
    {
      "cell_type": "code",
      "source": [
        "# len nam daje duljinu liste\n",
        "len(squares)"
      ],
      "metadata": {
        "colab": {
          "base_uri": "https://localhost:8080/"
        },
        "id": "RHMu1EXq1B2E",
        "outputId": "a7311ce5-c1e4-4c62-9196-005ca3211a08"
      },
      "execution_count": 47,
      "outputs": [
        {
          "output_type": "execute_result",
          "data": {
            "text/plain": [
              "10"
            ]
          },
          "metadata": {},
          "execution_count": 47
        }
      ]
    },
    {
      "cell_type": "code",
      "source": [
        "squares[1:2] = [\"a\", \"b\",\"c\", \"d\"]"
      ],
      "metadata": {
        "id": "ijf43-lB1Ny2"
      },
      "execution_count": 48,
      "outputs": []
    },
    {
      "cell_type": "code",
      "source": [
        "squares"
      ],
      "metadata": {
        "colab": {
          "base_uri": "https://localhost:8080/"
        },
        "id": "xepTfdRD1ZCl",
        "outputId": "ca020fc4-2b0d-455e-c296-fcb87d735984"
      },
      "execution_count": 49,
      "outputs": [
        {
          "output_type": "execute_result",
          "data": {
            "text/plain": [
              "[1, 'a', 'b', 'c', 'd', 9, 16, 25, 36, 49, 64, 81, 100]"
            ]
          },
          "metadata": {},
          "execution_count": 49
        }
      ]
    },
    {
      "cell_type": "code",
      "source": [
        "len(squares)"
      ],
      "metadata": {
        "colab": {
          "base_uri": "https://localhost:8080/"
        },
        "id": "pC_BMtOB1bxT",
        "outputId": "eb9b7320-4f22-4551-d61d-262cf70829f7"
      },
      "execution_count": 50,
      "outputs": [
        {
          "output_type": "execute_result",
          "data": {
            "text/plain": [
              "13"
            ]
          },
          "metadata": {},
          "execution_count": 50
        }
      ]
    },
    {
      "cell_type": "code",
      "source": [
        "# funkcije\n",
        "abs(-45)"
      ],
      "metadata": {
        "colab": {
          "base_uri": "https://localhost:8080/"
        },
        "id": "6bmfIeY41e88",
        "outputId": "5d8d4688-f352-4e10-c990-9264102b0a59"
      },
      "execution_count": 51,
      "outputs": [
        {
          "output_type": "execute_result",
          "data": {
            "text/plain": [
              "45"
            ]
          },
          "metadata": {},
          "execution_count": 51
        }
      ]
    },
    {
      "cell_type": "code",
      "source": [
        "# funk print za ispis podataka\n",
        "print(1)"
      ],
      "metadata": {
        "colab": {
          "base_uri": "https://localhost:8080/"
        },
        "id": "-_ERo3jt1mlL",
        "outputId": "fee9e2c5-04f3-47c5-ea45-bb849cd832be"
      },
      "execution_count": 52,
      "outputs": [
        {
          "output_type": "stream",
          "name": "stdout",
          "text": [
            "1\n"
          ]
        }
      ]
    },
    {
      "cell_type": "code",
      "source": [
        "print (\"Michael\", \"is\", \"studyng\")"
      ],
      "metadata": {
        "colab": {
          "base_uri": "https://localhost:8080/"
        },
        "id": "nuMVXKmy1uZJ",
        "outputId": "4242ff4a-83ae-437e-ba5a-fe523c1a763b"
      },
      "execution_count": 53,
      "outputs": [
        {
          "output_type": "stream",
          "name": "stdout",
          "text": [
            "Michael is studyng\n"
          ]
        }
      ]
    },
    {
      "cell_type": "code",
      "source": [
        "# None - prazna varijabla\n",
        "#NaN - neispravan broj"
      ],
      "metadata": {
        "id": "5D0TSALE2Wa_"
      },
      "execution_count": null,
      "outputs": []
    },
    {
      "cell_type": "code",
      "source": [
        "type(None)"
      ],
      "metadata": {
        "colab": {
          "base_uri": "https://localhost:8080/"
        },
        "id": "NX6mL-R22dze",
        "outputId": "79f893d4-183c-4c52-89ee-24da2e338fd9"
      },
      "execution_count": 57,
      "outputs": [
        {
          "output_type": "execute_result",
          "data": {
            "text/plain": [
              "NoneType"
            ]
          },
          "metadata": {},
          "execution_count": 57
        }
      ]
    },
    {
      "cell_type": "markdown",
      "source": [
        "Definiranje funkcije"
      ],
      "metadata": {
        "id": "-1RDWCTl2nh6"
      }
    },
    {
      "cell_type": "code",
      "source": [
        "def our_function(x):\n",
        "  \"\"\"Ova funkcija množi x sa 2\"\"\"\n",
        "  rezultat = x*2\n",
        "  return rezultat"
      ],
      "metadata": {
        "id": "yel0Gmy62o66"
      },
      "execution_count": 59,
      "outputs": []
    },
    {
      "cell_type": "code",
      "source": [
        "our_function(4)"
      ],
      "metadata": {
        "colab": {
          "base_uri": "https://localhost:8080/"
        },
        "id": "LuSbKMC-2-z8",
        "outputId": "9afca51a-dada-4efd-c544-239929cf474a"
      },
      "execution_count": 60,
      "outputs": [
        {
          "output_type": "execute_result",
          "data": {
            "text/plain": [
              "8"
            ]
          },
          "metadata": {},
          "execution_count": 60
        }
      ]
    },
    {
      "cell_type": "code",
      "source": [
        "type (our_function)"
      ],
      "metadata": {
        "colab": {
          "base_uri": "https://localhost:8080/"
        },
        "id": "NCYPitOl3DI1",
        "outputId": "5102e36a-f50c-493d-b5dc-ece37c289c5a"
      },
      "execution_count": 61,
      "outputs": [
        {
          "output_type": "execute_result",
          "data": {
            "text/plain": [
              "function"
            ]
          },
          "metadata": {},
          "execution_count": 61
        }
      ]
    },
    {
      "cell_type": "code",
      "source": [
        "import math"
      ],
      "metadata": {
        "id": "PuCN42Ps3YNm"
      },
      "execution_count": 62,
      "outputs": []
    },
    {
      "cell_type": "code",
      "source": [
        "def ph(c):\n",
        "  \"\"\"\n",
        "  Ova funkcija računa pH vrijednost\n",
        "  c - koncentracija H+ iona\n",
        "  \"\"\"\n",
        "  ph_value = -math.log10(c)\n",
        "  return ph_value\n",
        "  ph_value = -math.log10(c)\n",
        "  return ph_value"
      ],
      "metadata": {
        "id": "_HGgoAxV3aLg"
      },
      "execution_count": 64,
      "outputs": []
    },
    {
      "cell_type": "code",
      "source": [
        "ph(0.1)"
      ],
      "metadata": {
        "colab": {
          "base_uri": "https://localhost:8080/"
        },
        "id": "l5ldfYtO36wL",
        "outputId": "0f230371-65f5-448b-a99d-9574933feacf"
      },
      "execution_count": 67,
      "outputs": [
        {
          "output_type": "execute_result",
          "data": {
            "text/plain": [
              "1.0"
            ]
          },
          "metadata": {},
          "execution_count": 67
        }
      ]
    },
    {
      "cell_type": "code",
      "source": [
        "def ph1(c):\n",
        "  return -math.log10(c)"
      ],
      "metadata": {
        "id": "bx0B6hh74Eif"
      },
      "execution_count": 69,
      "outputs": []
    },
    {
      "cell_type": "code",
      "source": [
        "ph1(0.1)"
      ],
      "metadata": {
        "colab": {
          "base_uri": "https://localhost:8080/"
        },
        "id": "kajw2oiQ4Mo2",
        "outputId": "191a97f4-543b-4f93-f8aa-bd4bd1e52caf"
      },
      "execution_count": 70,
      "outputs": [
        {
          "output_type": "execute_result",
          "data": {
            "text/plain": [
              "1.0"
            ]
          },
          "metadata": {},
          "execution_count": 70
        }
      ]
    },
    {
      "cell_type": "code",
      "source": [
        "# funkcija sa 2 parametra\n",
        "def task(x,y):\n",
        "  '''\n",
        " opis\n",
        " '''\n",
        "  print('Ovo je log10 od x', math.log10(x))\n",
        "  print('Ovo je log10 od y', math.log10(y))\n",
        "  new_number = math.log10(x) + math.log10(y)\n",
        "  print('rezultat je ispod')\n",
        "\n",
        "  return new_number"
      ],
      "metadata": {
        "id": "3iAvZol65aHE"
      },
      "execution_count": 92,
      "outputs": []
    },
    {
      "cell_type": "code",
      "source": [
        "task(1000, 100)"
      ],
      "metadata": {
        "colab": {
          "base_uri": "https://localhost:8080/"
        },
        "id": "5uM6reRH53lp",
        "outputId": "bf19f348-a253-419a-fd64-741f118b1454"
      },
      "execution_count": 93,
      "outputs": [
        {
          "output_type": "stream",
          "name": "stdout",
          "text": [
            "Ovo je log10 od x 3.0\n",
            "Ovo je log10 od y 2.0\n",
            "rezultat je ispod\n"
          ]
        },
        {
          "output_type": "execute_result",
          "data": {
            "text/plain": [
              "5.0"
            ]
          },
          "metadata": {},
          "execution_count": 93
        }
      ]
    },
    {
      "cell_type": "markdown",
      "source": [
        "Funkcija koja konvertita danske krune u eure"
      ],
      "metadata": {
        "id": "lmdJWJ3v8ePc"
      }
    },
    {
      "cell_type": "code",
      "source": [
        "def konv_eur (euro):\n",
        "  dkk = euro*7.55\n",
        "  return dkk"
      ],
      "metadata": {
        "id": "2zJkt8bL8hvS"
      },
      "execution_count": 94,
      "outputs": []
    },
    {
      "cell_type": "code",
      "source": [
        "konv_eur(100)"
      ],
      "metadata": {
        "colab": {
          "base_uri": "https://localhost:8080/"
        },
        "id": "eVyJHIbd8vGS",
        "outputId": "a2d5e8ca-b8dd-4698-d758-0253b33721b9"
      },
      "execution_count": 95,
      "outputs": [
        {
          "output_type": "execute_result",
          "data": {
            "text/plain": [
              "755.0"
            ]
          },
          "metadata": {},
          "execution_count": 95
        }
      ]
    },
    {
      "cell_type": "markdown",
      "source": [
        "Funkcija za više parametara"
      ],
      "metadata": {
        "id": "q0T_suPx81Lp"
      }
    },
    {
      "cell_type": "code",
      "source": [
        "def plus (a, b, c, d):\n",
        "  suma = a + b + c + d\n",
        "  return suma"
      ],
      "metadata": {
        "id": "yHUddsb583ml"
      },
      "execution_count": 96,
      "outputs": []
    },
    {
      "cell_type": "code",
      "source": [
        "plus (1, 4, 6, 8)"
      ],
      "metadata": {
        "colab": {
          "base_uri": "https://localhost:8080/"
        },
        "id": "FgVl8mK69Cxg",
        "outputId": "3729070d-a8d1-4968-a114-5960bb09fbd0"
      },
      "execution_count": 97,
      "outputs": [
        {
          "output_type": "execute_result",
          "data": {
            "text/plain": [
              "19"
            ]
          },
          "metadata": {},
          "execution_count": 97
        }
      ]
    },
    {
      "cell_type": "markdown",
      "source": [
        "# assigment vs equality"
      ],
      "metadata": {
        "id": "QhCBGCHx56hC"
      }
    },
    {
      "cell_type": "code",
      "source": [
        "#assigment koristiti =\n",
        "width =20\n",
        "height= 5*90\n",
        "width, height"
      ],
      "metadata": {
        "colab": {
          "base_uri": "https://localhost:8080/"
        },
        "id": "CkyGaWOj59sp",
        "outputId": "8c8301ee-22ac-4d29-ffc2-acb6fffdd42a"
      },
      "execution_count": 84,
      "outputs": [
        {
          "output_type": "execute_result",
          "data": {
            "text/plain": [
              "(20, 450)"
            ]
          },
          "metadata": {},
          "execution_count": 84
        }
      ]
    },
    {
      "cell_type": "code",
      "source": [
        "#equality koristiti ==\n",
        "width == 20"
      ],
      "metadata": {
        "colab": {
          "base_uri": "https://localhost:8080/"
        },
        "id": "o9c0xS1t6oXp",
        "outputId": "1807cb1b-c73a-4e86-95ae-78eac27e0865"
      },
      "execution_count": 85,
      "outputs": [
        {
          "output_type": "execute_result",
          "data": {
            "text/plain": [
              "True"
            ]
          },
          "metadata": {},
          "execution_count": 85
        }
      ]
    },
    {
      "cell_type": "code",
      "source": [
        "1 == 1"
      ],
      "metadata": {
        "colab": {
          "base_uri": "https://localhost:8080/"
        },
        "id": "_BtOPO9u6wFw",
        "outputId": "eab24134-8191-4eeb-e6a1-ce748bb5e766"
      },
      "execution_count": 86,
      "outputs": [
        {
          "output_type": "execute_result",
          "data": {
            "text/plain": [
              "True"
            ]
          },
          "metadata": {},
          "execution_count": 86
        }
      ]
    },
    {
      "cell_type": "code",
      "source": [
        "cp1 = 'Tomo'\n",
        "cp2 = 'Maria'\n",
        "\n",
        "cp1 == cp2"
      ],
      "metadata": {
        "colab": {
          "base_uri": "https://localhost:8080/"
        },
        "id": "GZzAef1L6z93",
        "outputId": "daa36e07-0ffa-43fc-be66-8eeca93920ac"
      },
      "execution_count": 87,
      "outputs": [
        {
          "output_type": "execute_result",
          "data": {
            "text/plain": [
              "False"
            ]
          },
          "metadata": {},
          "execution_count": 87
        }
      ]
    },
    {
      "cell_type": "code",
      "source": [
        "# nije jednako !=\n",
        "cp1 != cp2"
      ],
      "metadata": {
        "colab": {
          "base_uri": "https://localhost:8080/"
        },
        "id": "-w10JuWA7BwX",
        "outputId": "e6cc3f30-3eff-4e72-f605-7fb06d04b1bd"
      },
      "execution_count": 88,
      "outputs": [
        {
          "output_type": "execute_result",
          "data": {
            "text/plain": [
              "True"
            ]
          },
          "metadata": {},
          "execution_count": 88
        }
      ]
    },
    {
      "cell_type": "markdown",
      "source": [
        "# is/is not"
      ],
      "metadata": {
        "id": "sEp6Z5lK6Gtt"
      }
    },
    {
      "cell_type": "code",
      "source": [
        "#operatori identiteta\n",
        "5 is 4"
      ],
      "metadata": {
        "colab": {
          "base_uri": "https://localhost:8080/"
        },
        "id": "QokWJ4LP6IrC",
        "outputId": "ed60a798-7c3c-4b21-cdce-9a1553f87103"
      },
      "execution_count": 81,
      "outputs": [
        {
          "output_type": "stream",
          "name": "stderr",
          "text": [
            "<>:2: SyntaxWarning: \"is\" with a literal. Did you mean \"==\"?\n",
            "<>:2: SyntaxWarning: \"is\" with a literal. Did you mean \"==\"?\n",
            "<ipython-input-81-c75f71b6b686>:2: SyntaxWarning: \"is\" with a literal. Did you mean \"==\"?\n",
            "  5 is 4\n"
          ]
        },
        {
          "output_type": "execute_result",
          "data": {
            "text/plain": [
              "False"
            ]
          },
          "metadata": {},
          "execution_count": 81
        }
      ]
    },
    {
      "cell_type": "code",
      "source": [
        "width = height"
      ],
      "metadata": {
        "id": "6uuS1Da56UZV"
      },
      "execution_count": 89,
      "outputs": []
    },
    {
      "cell_type": "code",
      "source": [
        "width is height"
      ],
      "metadata": {
        "colab": {
          "base_uri": "https://localhost:8080/"
        },
        "id": "fLuZHpSR6XY7",
        "outputId": "2821c8ea-dca4-4ced-abcd-f4a21f2b5d57"
      },
      "execution_count": 90,
      "outputs": [
        {
          "output_type": "execute_result",
          "data": {
            "text/plain": [
              "True"
            ]
          },
          "metadata": {},
          "execution_count": 90
        }
      ]
    },
    {
      "cell_type": "code",
      "source": [
        "squares = [1, 4, 9, 16, 25]"
      ],
      "metadata": {
        "id": "5lcqy7nX-pvo"
      },
      "execution_count": 98,
      "outputs": []
    },
    {
      "cell_type": "code",
      "source": [
        "# append\n",
        "squares.append(36)"
      ],
      "metadata": {
        "id": "ENKLqQAZ_Izv"
      },
      "execution_count": 99,
      "outputs": []
    },
    {
      "cell_type": "code",
      "source": [
        "squares"
      ],
      "metadata": {
        "colab": {
          "base_uri": "https://localhost:8080/"
        },
        "id": "B6zfgHep_RAl",
        "outputId": "53da5b1a-820f-4719-93e2-ad8e233f0618"
      },
      "execution_count": 100,
      "outputs": [
        {
          "output_type": "execute_result",
          "data": {
            "text/plain": [
              "[1, 4, 9, 16, 25, 36]"
            ]
          },
          "metadata": {},
          "execution_count": 100
        }
      ]
    },
    {
      "cell_type": "code",
      "source": [
        "squares_part2 = squares + [36]\n",
        "squares_part2"
      ],
      "metadata": {
        "colab": {
          "base_uri": "https://localhost:8080/"
        },
        "id": "tHBP8v5w_VRg",
        "outputId": "073d2eff-d0f8-4d36-eb01-95831c60e0d9"
      },
      "execution_count": 101,
      "outputs": [
        {
          "output_type": "execute_result",
          "data": {
            "text/plain": [
              "[1, 4, 9, 16, 25, 36, 36]"
            ]
          },
          "metadata": {},
          "execution_count": 101
        }
      ]
    },
    {
      "cell_type": "code",
      "source": [
        "new_list = squares.copy()\n",
        "new_list"
      ],
      "metadata": {
        "colab": {
          "base_uri": "https://localhost:8080/"
        },
        "id": "mlhynrDV_c9X",
        "outputId": "1ac1e79b-e1d0-4b92-be83-b590022743e2"
      },
      "execution_count": 102,
      "outputs": [
        {
          "output_type": "execute_result",
          "data": {
            "text/plain": [
              "[1, 4, 9, 16, 25, 36]"
            ]
          },
          "metadata": {},
          "execution_count": 102
        }
      ]
    },
    {
      "cell_type": "code",
      "source": [
        "# napredniji načini za print()\n",
        "print('Participans in the course were', cp1, 'and', cp2, '.')"
      ],
      "metadata": {
        "colab": {
          "base_uri": "https://localhost:8080/"
        },
        "id": "GdWq_or2_nCt",
        "outputId": "97a207e1-e394-45dd-a342-ca7d6ce1436e"
      },
      "execution_count": 103,
      "outputs": [
        {
          "output_type": "stream",
          "name": "stdout",
          "text": [
            "Participans in the course were Tomo and Maria .\n"
          ]
        }
      ]
    },
    {
      "cell_type": "code",
      "source": [
        "# %\n",
        "print('Participanst in the course were %s and %s.' % (cp1, cp2))"
      ],
      "metadata": {
        "colab": {
          "base_uri": "https://localhost:8080/"
        },
        "id": "oFPheEZb_675",
        "outputId": "806ca2c5-ce5c-490f-e6a8-ca470ed9b5ea"
      },
      "execution_count": 109,
      "outputs": [
        {
          "output_type": "stream",
          "name": "stdout",
          "text": [
            "Participanst in the course were Tomo and Maria.\n"
          ]
        }
      ]
    },
    {
      "cell_type": "code",
      "source": [
        "sample = 'u552'\n",
        "conc = 0.002\n",
        "print ('In sample %s we found %s mg/L or drugs' %(sample, conc))"
      ],
      "metadata": {
        "colab": {
          "base_uri": "https://localhost:8080/"
        },
        "id": "EbwXXjaHAOXX",
        "outputId": "b14a069b-daaf-4976-affc-dfc8706b1819"
      },
      "execution_count": 106,
      "outputs": [
        {
          "output_type": "stream",
          "name": "stdout",
          "text": [
            "In sample u552 we found 0.002 mg/L or drugs\n"
          ]
        }
      ]
    },
    {
      "cell_type": "code",
      "source": [
        "# f - string\n",
        "print (f'In sample {sample}we found {conc} mg/L of drugs')"
      ],
      "metadata": {
        "colab": {
          "base_uri": "https://localhost:8080/"
        },
        "id": "INYocnWcAglK",
        "outputId": "4e0218ee-d7c5-4106-e8b6-93c4faa67423"
      },
      "execution_count": 107,
      "outputs": [
        {
          "output_type": "stream",
          "name": "stdout",
          "text": [
            "In sample u552we found 0.002 mg/L of drugs\n"
          ]
        }
      ]
    },
    {
      "cell_type": "markdown",
      "source": [
        "# Funkcije"
      ],
      "metadata": {
        "id": "Gf7SRfuAAwnA"
      }
    },
    {
      "cell_type": "code",
      "source": [
        "# definiramo funkciju koja računa BMI osobe\n",
        "def bmi(w, h):\n",
        "  '''\n",
        "  Ova funkcija računa BMI osobe.\n",
        "  w - weight\n",
        "  h - hight\n",
        "  '''\n",
        "\n",
        "  bmi = w/(h**2)\n",
        "\n",
        "  return bmi"
      ],
      "metadata": {
        "id": "L1Bnlnp_Axq7"
      },
      "execution_count": 110,
      "outputs": []
    },
    {
      "cell_type": "code",
      "source": [
        "bmi(67, 1.77)"
      ],
      "metadata": {
        "colab": {
          "base_uri": "https://localhost:8080/"
        },
        "id": "NsLBhZAiCDfi",
        "outputId": "15840ac9-a74e-4b98-b749-5017bc698f49"
      },
      "execution_count": 111,
      "outputs": [
        {
          "output_type": "execute_result",
          "data": {
            "text/plain": [
              "21.38593635289987"
            ]
          },
          "metadata": {},
          "execution_count": 111
        }
      ]
    },
    {
      "cell_type": "code",
      "source": [
        "bmi(110, 1.99)"
      ],
      "metadata": {
        "colab": {
          "base_uri": "https://localhost:8080/"
        },
        "id": "ESjsbRXcCM8i",
        "outputId": "60460d27-a350-49e1-a476-f3921c853cbc"
      },
      "execution_count": 112,
      "outputs": [
        {
          "output_type": "execute_result",
          "data": {
            "text/plain": [
              "27.777076336456147"
            ]
          },
          "metadata": {},
          "execution_count": 112
        }
      ]
    },
    {
      "cell_type": "code",
      "source": [
        "# funkcija koja računa razrjeđenje\n",
        "# c1V1 = c2V2\n",
        "\n",
        "def diluter (c1, V1=1, v2=1):\n",
        "  '''\n",
        "  Funkcija koja računa c2\n",
        "  '''\n",
        "\n",
        "  c2 = c1*V1/v2\n",
        "\n",
        "  return c2"
      ],
      "metadata": {
        "id": "AOjRQsohCRLb"
      },
      "execution_count": 113,
      "outputs": []
    },
    {
      "cell_type": "code",
      "source": [
        "# u zagradi pišemo vrijednost c1 koji je nedefiniran u formuli\n",
        "diluter(2)"
      ],
      "metadata": {
        "colab": {
          "base_uri": "https://localhost:8080/"
        },
        "id": "WSDlM_NoCvk5",
        "outputId": "a6390496-e12a-42d9-b1a0-c81fcf40fda2"
      },
      "execution_count": 115,
      "outputs": [
        {
          "output_type": "execute_result",
          "data": {
            "text/plain": [
              "2.0"
            ]
          },
          "metadata": {},
          "execution_count": 115
        }
      ]
    },
    {
      "cell_type": "code",
      "source": [
        "diluter (2, 2, 3)"
      ],
      "metadata": {
        "colab": {
          "base_uri": "https://localhost:8080/"
        },
        "id": "sqs1vhoGC8Xt",
        "outputId": "60d07cca-1dda-41ed-8578-8ed41192ac5c"
      },
      "execution_count": 116,
      "outputs": [
        {
          "output_type": "execute_result",
          "data": {
            "text/plain": [
              "1.3333333333333333"
            ]
          },
          "metadata": {},
          "execution_count": 116
        }
      ]
    },
    {
      "cell_type": "code",
      "source": [
        "# c - positional argument\n",
        "# f - keyword argument (ima vec deiniranu vrijednost)\n",
        "def factor_corrections(c, f=1.4):\n",
        "  conc_cor = c*f\n",
        "  return conc_cor"
      ],
      "metadata": {
        "id": "OsLTO-3kEyjq"
      },
      "execution_count": 118,
      "outputs": []
    },
    {
      "cell_type": "code",
      "source": [
        "factor_corrections(3.4)"
      ],
      "metadata": {
        "colab": {
          "base_uri": "https://localhost:8080/"
        },
        "id": "PmFrfxrGFBta",
        "outputId": "d4712706-780e-410b-aef8-7f1ec13450c5"
      },
      "execution_count": 120,
      "outputs": [
        {
          "output_type": "execute_result",
          "data": {
            "text/plain": [
              "4.76"
            ]
          },
          "metadata": {},
          "execution_count": 120
        }
      ]
    },
    {
      "cell_type": "code",
      "source": [
        "def do_something_else(a=1, b=2, c=3):\n",
        "  return (a, b, c)"
      ],
      "metadata": {
        "id": "ao7fv29MFMII"
      },
      "execution_count": 121,
      "outputs": []
    },
    {
      "cell_type": "code",
      "source": [
        "do_something_else()"
      ],
      "metadata": {
        "colab": {
          "base_uri": "https://localhost:8080/"
        },
        "id": "smAIs8MfFkMp",
        "outputId": "51abdbae-2ab2-4372-eabc-5e355c73d596"
      },
      "execution_count": 122,
      "outputs": [
        {
          "output_type": "execute_result",
          "data": {
            "text/plain": [
              "(1, 2, 3)"
            ]
          },
          "metadata": {},
          "execution_count": 122
        }
      ]
    },
    {
      "cell_type": "code",
      "source": [
        "do_something_else(10,20,30)"
      ],
      "metadata": {
        "colab": {
          "base_uri": "https://localhost:8080/"
        },
        "id": "UzEC5EoXFn3F",
        "outputId": "62d496ee-b240-4642-eabe-507a9a651f5e"
      },
      "execution_count": 123,
      "outputs": [
        {
          "output_type": "execute_result",
          "data": {
            "text/plain": [
              "(10, 20, 30)"
            ]
          },
          "metadata": {},
          "execution_count": 123
        }
      ]
    },
    {
      "cell_type": "code",
      "source": [
        "do_something_else (a=10, b=20, c=30)"
      ],
      "metadata": {
        "colab": {
          "base_uri": "https://localhost:8080/"
        },
        "id": "eN_cy30gFsEV",
        "outputId": "319f0dea-1d86-4fdf-b0b5-7963b6c75261"
      },
      "execution_count": 125,
      "outputs": [
        {
          "output_type": "execute_result",
          "data": {
            "text/plain": [
              "(10, 20, 30)"
            ]
          },
          "metadata": {},
          "execution_count": 125
        }
      ]
    },
    {
      "cell_type": "markdown",
      "source": [
        "## FOR petlja"
      ],
      "metadata": {
        "id": "VLcME2lnGfle"
      }
    },
    {
      "cell_type": "code",
      "source": [
        "my_friends = ['Julija', 'Elisa', 'Talia', 'Noa']"
      ],
      "metadata": {
        "id": "UM9FdZ_nGafb"
      },
      "execution_count": 127,
      "outputs": []
    },
    {
      "cell_type": "code",
      "source": [
        "for person in my_friends:\n",
        "    print(person)"
      ],
      "metadata": {
        "colab": {
          "base_uri": "https://localhost:8080/"
        },
        "id": "uHTT32RaG4Z_",
        "outputId": "de55dfbd-408d-4a3e-9bb4-5ab3d1e46dcf"
      },
      "execution_count": 131,
      "outputs": [
        {
          "output_type": "stream",
          "name": "stdout",
          "text": [
            "Julija\n",
            "Elisa\n",
            "Talia\n",
            "Noa\n"
          ]
        }
      ]
    },
    {
      "cell_type": "code",
      "source": [
        "def bmi(w,h):\n",
        "  bmi=w/(h**2)\n",
        "  return bmi"
      ],
      "metadata": {
        "id": "0XoztaJEHDZp"
      },
      "execution_count": 132,
      "outputs": []
    },
    {
      "cell_type": "code",
      "source": [
        "weights = [55, 60, 65, 80]\n",
        "heights = [1.6, 1.65, 1.70, 1.85]\n",
        "\n",
        "for x, friend in enumerate(my_friends):\n",
        "  bmi_person = bmi(weights[x], heights[x])\n",
        "  print(f'{friend} has the BMI of {bmi_person}')"
      ],
      "metadata": {
        "colab": {
          "base_uri": "https://localhost:8080/"
        },
        "id": "lR_l6ZR_HK8D",
        "outputId": "1b6e81b3-596e-449a-ca09-9727347e6c14"
      },
      "execution_count": 135,
      "outputs": [
        {
          "output_type": "stream",
          "name": "stdout",
          "text": [
            "Julija has the BMI of 21.484374999999996\n",
            "Elisa has the BMI of 22.03856749311295\n",
            "Talia has the BMI of 22.49134948096886\n",
            "Noa has the BMI of 23.37472607742878\n"
          ]
        }
      ]
    },
    {
      "cell_type": "code",
      "source": [
        "# BMI samo zadnje osobe\n",
        "bmi_person"
      ],
      "metadata": {
        "colab": {
          "base_uri": "https://localhost:8080/"
        },
        "id": "esEbJcEOIU1m",
        "outputId": "f1b03af8-fbdc-4765-9b6a-b9c1cb6c1f67"
      },
      "execution_count": 136,
      "outputs": [
        {
          "output_type": "execute_result",
          "data": {
            "text/plain": [
              "23.37472607742878"
            ]
          },
          "metadata": {},
          "execution_count": 136
        }
      ]
    },
    {
      "cell_type": "code",
      "source": [
        "print(f'{friend} has the BMI of {bmi_person}')"
      ],
      "metadata": {
        "colab": {
          "base_uri": "https://localhost:8080/"
        },
        "id": "0L6XnwaPNiRl",
        "outputId": "a6907702-3889-46b5-e681-414244a6f424"
      },
      "execution_count": 137,
      "outputs": [
        {
          "output_type": "stream",
          "name": "stdout",
          "text": [
            "Noa has the BMI of 23.37472607742878\n"
          ]
        }
      ]
    },
    {
      "cell_type": "code",
      "source": [
        "squeres = [1, 4, 9, 16, 25]\n",
        "\n",
        "for x in squeres :\n",
        "  print('Element is %i' %x)"
      ],
      "metadata": {
        "colab": {
          "base_uri": "https://localhost:8080/"
        },
        "id": "vZFG722bNtd_",
        "outputId": "fababa54-0f0a-4a8b-95fe-ae4268935b30"
      },
      "execution_count": 139,
      "outputs": [
        {
          "output_type": "stream",
          "name": "stdout",
          "text": [
            "Element is 1\n",
            "Element is 4\n",
            "Element is 9\n",
            "Element is 16\n",
            "Element is 25\n"
          ]
        }
      ]
    },
    {
      "cell_type": "code",
      "source": [
        "for x in squeres:\n",
        "  print(x)"
      ],
      "metadata": {
        "colab": {
          "base_uri": "https://localhost:8080/"
        },
        "id": "etYpc6ipN-6r",
        "outputId": "9f7365d7-0605-4bf6-d555-5401003bc410"
      },
      "execution_count": 140,
      "outputs": [
        {
          "output_type": "stream",
          "name": "stdout",
          "text": [
            "1\n",
            "4\n",
            "9\n",
            "16\n",
            "25\n"
          ]
        }
      ]
    },
    {
      "cell_type": "code",
      "source": [
        "course_participants = [cp1, cp2]\n",
        "course_participants"
      ],
      "metadata": {
        "colab": {
          "base_uri": "https://localhost:8080/"
        },
        "id": "NED2r8JUODze",
        "outputId": "fca2e218-b53d-47eb-e19e-2b025affd318"
      },
      "execution_count": 142,
      "outputs": [
        {
          "output_type": "execute_result",
          "data": {
            "text/plain": [
              "['Tomo', 'Maria']"
            ]
          },
          "metadata": {},
          "execution_count": 142
        }
      ]
    },
    {
      "cell_type": "code",
      "source": [
        "for name in course_participants:\n",
        "  print(name)"
      ],
      "metadata": {
        "colab": {
          "base_uri": "https://localhost:8080/"
        },
        "id": "gkjslOPCOTSo",
        "outputId": "02be26b8-b9e1-456b-caf0-e3f164943722"
      },
      "execution_count": 144,
      "outputs": [
        {
          "output_type": "stream",
          "name": "stdout",
          "text": [
            "Tomo\n",
            "Maria\n"
          ]
        }
      ]
    },
    {
      "cell_type": "code",
      "source": [
        "# range - stvara niz brojeva počevši od nule (od indeksa)\n",
        "\n",
        "for pos in range(len(course_participants)):\n",
        "  print(pos)"
      ],
      "metadata": {
        "colab": {
          "base_uri": "https://localhost:8080/"
        },
        "id": "HnuH7Cb3Ocir",
        "outputId": "66a669f1-54d1-45be-c5b5-72b0cc78b551"
      },
      "execution_count": 145,
      "outputs": [
        {
          "output_type": "stream",
          "name": "stdout",
          "text": [
            "0\n",
            "1\n"
          ]
        }
      ]
    },
    {
      "cell_type": "code",
      "source": [
        "# enumerate - dohvaca indeks (number) i vrijednost (element)\n",
        "for number, element in enumerate(squares):\n",
        "  print(number, element)"
      ],
      "metadata": {
        "colab": {
          "base_uri": "https://localhost:8080/"
        },
        "id": "Y7zI0ohYOpA0",
        "outputId": "71dfdc36-435e-45b5-9f23-ab15ce32fc2f"
      },
      "execution_count": 146,
      "outputs": [
        {
          "output_type": "stream",
          "name": "stdout",
          "text": [
            "0 1\n",
            "1 4\n",
            "2 9\n",
            "3 16\n",
            "4 25\n",
            "5 36\n"
          ]
        }
      ]
    },
    {
      "cell_type": "code",
      "source": [
        "import math\n",
        "for number in squares:\n",
        "  sq_root = math.sqrt(number)\n",
        "  print(sq_root)\n",
        "  print(sq_root)"
      ],
      "metadata": {
        "colab": {
          "base_uri": "https://localhost:8080/"
        },
        "id": "rndrKQIVPCCR",
        "outputId": "6928618a-aae7-4691-dd42-305891fd56f9"
      },
      "execution_count": 148,
      "outputs": [
        {
          "output_type": "stream",
          "name": "stdout",
          "text": [
            "1.0\n",
            "1.0\n",
            "2.0\n",
            "2.0\n",
            "3.0\n",
            "3.0\n",
            "4.0\n",
            "4.0\n",
            "5.0\n",
            "5.0\n",
            "6.0\n",
            "6.0\n"
          ]
        }
      ]
    },
    {
      "cell_type": "markdown",
      "source": [
        "# IF petlja"
      ],
      "metadata": {
        "id": "MTIvJR2uQHTl"
      }
    },
    {
      "cell_type": "code",
      "source": [
        "1 <= 2"
      ],
      "metadata": {
        "colab": {
          "base_uri": "https://localhost:8080/"
        },
        "id": "GFocbxxUP7H9",
        "outputId": "8ab4bd7c-ece2-43eb-f768-cec9bd7b6a2f"
      },
      "execution_count": 151,
      "outputs": [
        {
          "output_type": "execute_result",
          "data": {
            "text/plain": [
              "True"
            ]
          },
          "metadata": {},
          "execution_count": 151
        }
      ]
    },
    {
      "cell_type": "code",
      "source": [
        "if 1<=2:\n",
        "  print('1 je manji ili jednak 2')"
      ],
      "metadata": {
        "colab": {
          "base_uri": "https://localhost:8080/"
        },
        "id": "k8Ah6o_xQNEq",
        "outputId": "4752336c-7540-484e-f22a-cfe07dda1272"
      },
      "execution_count": 152,
      "outputs": [
        {
          "output_type": "stream",
          "name": "stdout",
          "text": [
            "1 je manji ili jednak 2\n"
          ]
        }
      ]
    },
    {
      "cell_type": "code",
      "source": [
        "if 1 == 1:\n",
        "  print('da')\n",
        "  print('yes')\n",
        "  print('si')\n",
        "  print('oui')"
      ],
      "metadata": {
        "colab": {
          "base_uri": "https://localhost:8080/"
        },
        "id": "UXn49QUaQUb7",
        "outputId": "d62dedb6-92c4-4a51-c2f8-45df9ba668c4"
      },
      "execution_count": 153,
      "outputs": [
        {
          "output_type": "stream",
          "name": "stdout",
          "text": [
            "da\n",
            "yes\n",
            "si\n",
            "oui\n"
          ]
        }
      ]
    },
    {
      "cell_type": "code",
      "source": [
        "cp1 = 'Julija'\n",
        "cp2 = 'Elisa'"
      ],
      "metadata": {
        "id": "8kVB1R0BQeoa"
      },
      "execution_count": 154,
      "outputs": []
    },
    {
      "cell_type": "code",
      "source": [
        "if cp1 == cp2:\n",
        "  print('yes')"
      ],
      "metadata": {
        "id": "YbWtTMVqQjze"
      },
      "execution_count": 157,
      "outputs": []
    },
    {
      "cell_type": "code",
      "source": [
        "# else\n",
        "if cp1 == cp2:\n",
        "  print('yes')\n",
        "else:\n",
        "    print('no')"
      ],
      "metadata": {
        "colab": {
          "base_uri": "https://localhost:8080/"
        },
        "id": "-wa_cURmQwRz",
        "outputId": "573122c0-ab89-4eee-9716-e7450cb720d1"
      },
      "execution_count": 160,
      "outputs": [
        {
          "output_type": "stream",
          "name": "stdout",
          "text": [
            "no\n"
          ]
        }
      ]
    },
    {
      "cell_type": "code",
      "source": [
        "# elif\n",
        "\n",
        "def check_gander_by_name (name):\n",
        "  if name [-1] == 'a':\n",
        "    gender = 'female'\n",
        "  elif name [-1] == 'o':\n",
        "    gender = 'male'\n",
        "  else:\n",
        "    gender = 'unknown'\n",
        "  return gender\n",
        "\n",
        "check_gander_by_name ('Julija')\n",
        ""
      ],
      "metadata": {
        "colab": {
          "base_uri": "https://localhost:8080/",
          "height": 36
        },
        "id": "lHwB5Z8MRoqR",
        "outputId": "8b4ca258-134f-4e54-f64d-b13ebe5a4553"
      },
      "execution_count": 167,
      "outputs": [
        {
          "output_type": "execute_result",
          "data": {
            "text/plain": [
              "'female'"
            ],
            "application/vnd.google.colaboratory.intrinsic+json": {
              "type": "string"
            }
          },
          "metadata": {},
          "execution_count": 167
        }
      ]
    },
    {
      "cell_type": "code",
      "source": [
        "def ph(c):\n",
        "  return -math.log10(c)"
      ],
      "metadata": {
        "id": "ivfwaz39R9NW"
      },
      "execution_count": 168,
      "outputs": []
    },
    {
      "cell_type": "code",
      "source": [
        "def ph_evaluator(c):\n",
        "  '''\n",
        "  Funkcija koja provjerava je li otopina kisela ili lužnata\n",
        "  '''\n",
        "\n",
        "  ph_value = ph(c)\n",
        "\n",
        "  if ph_value < 7:\n",
        "    decision = 'Ova otopina je kisla'\n",
        "  else:\n",
        "      decision = 'Ova otopina je lužnata'\n",
        "\n",
        "  return decision"
      ],
      "metadata": {
        "id": "W9w72mHRSKvt"
      },
      "execution_count": 169,
      "outputs": []
    },
    {
      "cell_type": "code",
      "source": [
        "ph_evaluator (0.01)"
      ],
      "metadata": {
        "colab": {
          "base_uri": "https://localhost:8080/",
          "height": 36
        },
        "id": "n71E5YMxSmz2",
        "outputId": "0c1f9e96-639f-457b-b827-c29b0df7f612"
      },
      "execution_count": 170,
      "outputs": [
        {
          "output_type": "execute_result",
          "data": {
            "text/plain": [
              "'Ova otopina je kisla'"
            ],
            "application/vnd.google.colaboratory.intrinsic+json": {
              "type": "string"
            }
          },
          "metadata": {},
          "execution_count": 170
        }
      ]
    },
    {
      "cell_type": "code",
      "source": [
        "# skraćena verzija\n",
        "def ph_evaluator(c):\n",
        "\n",
        "  if ph(c) < 7:\n",
        "   return ' Ova otopina je kisela'\n",
        "  else:\n",
        "      return 'Ova otopina je lužnata'"
      ],
      "metadata": {
        "id": "3edl16fzSp9t"
      },
      "execution_count": 175,
      "outputs": []
    },
    {
      "cell_type": "code",
      "source": [
        "ph_evaluator (0.01)"
      ],
      "metadata": {
        "colab": {
          "base_uri": "https://localhost:8080/",
          "height": 36
        },
        "id": "Ht4PB-xrTGHJ",
        "outputId": "69364b03-b2a9-4cf5-9d8d-b7e3c71eeaab"
      },
      "execution_count": 176,
      "outputs": [
        {
          "output_type": "execute_result",
          "data": {
            "text/plain": [
              "' Ova otopina je kisela'"
            ],
            "application/vnd.google.colaboratory.intrinsic+json": {
              "type": "string"
            }
          },
          "metadata": {},
          "execution_count": 176
        }
      ]
    },
    {
      "cell_type": "code",
      "source": [
        "conc_list = [0.001, 0.01, 1, 10]\n",
        "\n",
        "for conc in conc_list:\n",
        "  print(ph_evaluator(conc))"
      ],
      "metadata": {
        "colab": {
          "base_uri": "https://localhost:8080/"
        },
        "id": "SvbbGE-qTJtQ",
        "outputId": "3d987884-2856-4573-e9a2-2a8f6eea22e8"
      },
      "execution_count": 177,
      "outputs": [
        {
          "output_type": "stream",
          "name": "stdout",
          "text": [
            " Ova otopina je kisela\n",
            " Ova otopina je kisela\n",
            " Ova otopina je kisela\n",
            " Ova otopina je kisela\n"
          ]
        }
      ]
    },
    {
      "cell_type": "code",
      "source": [
        "def test_if_else (a,b):\n",
        "  '''\n",
        "  a, b - argumenti\n",
        "  Funkcija vraća je li a veći od b ili nije veći od b\n",
        "  '''\n",
        "\n",
        "  if a > b:\n",
        "    print(a, '>', b)\n",
        "  else:\n",
        "    print (a, 'is not >', b)"
      ],
      "metadata": {
        "id": "SLkJ0r9GVqOP"
      },
      "execution_count": 181,
      "outputs": []
    },
    {
      "cell_type": "code",
      "source": [
        "test_if_else(6,2)"
      ],
      "metadata": {
        "colab": {
          "base_uri": "https://localhost:8080/"
        },
        "id": "LTcO8uREWDf4",
        "outputId": "9179c117-e877-40e7-ad7d-be9a23cdb0e0"
      },
      "execution_count": 182,
      "outputs": [
        {
          "output_type": "stream",
          "name": "stdout",
          "text": [
            "6 > 2\n"
          ]
        }
      ]
    },
    {
      "cell_type": "code",
      "source": [
        "help(test_if_else)"
      ],
      "metadata": {
        "colab": {
          "base_uri": "https://localhost:8080/"
        },
        "id": "GexowReDWGZW",
        "outputId": "2bf34f2b-ca8f-44da-f5e4-9cacb3fb8a12"
      },
      "execution_count": 183,
      "outputs": [
        {
          "output_type": "stream",
          "name": "stdout",
          "text": [
            "Help on function test_if_else in module __main__:\n",
            "\n",
            "test_if_else(a, b)\n",
            "    a, b - argumenti\n",
            "    Funkcija vraća je li a veći od b ili nije veći od b\n",
            "\n"
          ]
        }
      ]
    },
    {
      "cell_type": "code",
      "source": [
        "# funkcija koja provjerava više uvijeta\n",
        "\n",
        "def test_conditions (a,b):\n",
        "  if a > b:\n",
        "    print('a > b')\n",
        "  elif a < b:\n",
        "    print('a < b')\n",
        "  elif a == b:\n",
        "    print ('a == b')\n",
        "  else:\n",
        "    print ('something else')\n"
      ],
      "metadata": {
        "id": "rSEl4RWnWMRS"
      },
      "execution_count": 186,
      "outputs": []
    },
    {
      "cell_type": "code",
      "source": [
        "test_conditions (3,6)"
      ],
      "metadata": {
        "colab": {
          "base_uri": "https://localhost:8080/"
        },
        "id": "6Wnv6kqqWxbn",
        "outputId": "18a09091-5a37-4924-f968-47354f7567f4"
      },
      "execution_count": 187,
      "outputs": [
        {
          "output_type": "stream",
          "name": "stdout",
          "text": [
            "a < b\n"
          ]
        }
      ]
    },
    {
      "cell_type": "code",
      "source": [
        "def area(a,b):\n",
        "  '''\n",
        "  Funkcija računa površinu četverokuta i ako su stranice iste duljine ispisuje da je riječ o kvadratu.\n",
        "  '''\n",
        "\n",
        "  A = a*b\n",
        "  if a == b:\n",
        "    print (' Riječ je o kvadratu')\n",
        "  else:\n",
        "    print ('Nije riječ o kvadratu')\n",
        "\n",
        "    return A"
      ],
      "metadata": {
        "id": "PoVo8GwgdG1m"
      },
      "execution_count": 192,
      "outputs": []
    },
    {
      "cell_type": "code",
      "source": [
        "area(2,4)"
      ],
      "metadata": {
        "colab": {
          "base_uri": "https://localhost:8080/"
        },
        "id": "zKdtNJxWevhv",
        "outputId": "0097f27b-e28f-4057-c57f-9ab2b2c7c9af"
      },
      "execution_count": 193,
      "outputs": [
        {
          "output_type": "stream",
          "name": "stdout",
          "text": [
            "Nije riječ o kvadratu\n"
          ]
        },
        {
          "output_type": "execute_result",
          "data": {
            "text/plain": [
              "8"
            ]
          },
          "metadata": {},
          "execution_count": 193
        }
      ]
    },
    {
      "cell_type": "code",
      "source": [
        "area(4,4)"
      ],
      "metadata": {
        "colab": {
          "base_uri": "https://localhost:8080/"
        },
        "id": "zEn4mjz9eyXv",
        "outputId": "b7048034-330a-4171-8c8a-3f3c800854fc"
      },
      "execution_count": 196,
      "outputs": [
        {
          "output_type": "stream",
          "name": "stdout",
          "text": [
            " Riječ je o kvadratu\n"
          ]
        }
      ]
    },
    {
      "cell_type": "code",
      "source": [
        "# ime\n",
        "for slovo in 'Klara':\n",
        "  print (slovo)"
      ],
      "metadata": {
        "colab": {
          "base_uri": "https://localhost:8080/"
        },
        "id": "RZHfOu2Ve7w9",
        "outputId": "135faaff-f54f-438e-d76b-4369048c3bcb"
      },
      "execution_count": 197,
      "outputs": [
        {
          "output_type": "stream",
          "name": "stdout",
          "text": [
            "K\n",
            "l\n",
            "a\n",
            "r\n",
            "a\n"
          ]
        }
      ]
    },
    {
      "cell_type": "code",
      "source": [
        "klara = 'Klara'\n",
        "for slovo in klara:\n",
        "  print(slovo)"
      ],
      "metadata": {
        "colab": {
          "base_uri": "https://localhost:8080/"
        },
        "id": "k-j0me8IfZcW",
        "outputId": "3fea4069-4313-46b7-f7d7-be1f40339eec"
      },
      "execution_count": 198,
      "outputs": [
        {
          "output_type": "stream",
          "name": "stdout",
          "text": [
            "K\n",
            "l\n",
            "a\n",
            "r\n",
            "a\n"
          ]
        }
      ]
    },
    {
      "cell_type": "code",
      "source": [
        "x = 5\n"
      ],
      "metadata": {
        "id": "AZj5J1WMfqj8"
      },
      "execution_count": 199,
      "outputs": []
    },
    {
      "cell_type": "code",
      "source": [
        "y= 7"
      ],
      "metadata": {
        "id": "irIRIuG3fs29"
      },
      "execution_count": 200,
      "outputs": []
    },
    {
      "cell_type": "code",
      "source": [
        "x+y"
      ],
      "metadata": {
        "colab": {
          "base_uri": "https://localhost:8080/"
        },
        "id": "dM4rZk-dfuoa",
        "outputId": "ec15bb60-6278-4d2e-c794-115803ba42ce"
      },
      "execution_count": 201,
      "outputs": [
        {
          "output_type": "execute_result",
          "data": {
            "text/plain": [
              "12"
            ]
          },
          "metadata": {},
          "execution_count": 201
        }
      ]
    },
    {
      "cell_type": "code",
      "source": [
        "x = 8"
      ],
      "metadata": {
        "id": "YP9G_gy1fx1L"
      },
      "execution_count": 202,
      "outputs": []
    },
    {
      "cell_type": "code",
      "source": [
        "#uvijek će upotrijebiti zadnju varijablu\n",
        "x+y"
      ],
      "metadata": {
        "colab": {
          "base_uri": "https://localhost:8080/"
        },
        "id": "buLIDzZEfzdz",
        "outputId": "a060e904-9b79-48ff-e3e6-385f9ecf0e34"
      },
      "execution_count": 205,
      "outputs": [
        {
          "output_type": "execute_result",
          "data": {
            "text/plain": [
              "15"
            ]
          },
          "metadata": {},
          "execution_count": 205
        }
      ]
    },
    {
      "cell_type": "code",
      "source": [
        "# funkcija koja provjerava parnost brojeva\n",
        "\n",
        "def check_parity(brojevi):\n",
        "  for broj in brojevi:\n",
        "    if broj % 2 == 0:\n",
        "      print(f'{broj} je paran')\n",
        "    else:\n",
        "      print (f'{broj} je neparan')"
      ],
      "metadata": {
        "id": "Jlhak8Engkbk"
      },
      "execution_count": 209,
      "outputs": []
    },
    {
      "cell_type": "code",
      "source": [
        "check_parity ([2,3,4,8,9,43])"
      ],
      "metadata": {
        "colab": {
          "base_uri": "https://localhost:8080/"
        },
        "id": "I49SmVBCgmfe",
        "outputId": "3a0fdcba-67ac-42a4-9bb9-90a7288c0656"
      },
      "execution_count": 210,
      "outputs": [
        {
          "output_type": "stream",
          "name": "stdout",
          "text": [
            "2 je paran\n",
            "3 je neparan\n",
            "4 je paran\n",
            "8 je paran\n",
            "9 je neparan\n",
            "43 je neparan\n"
          ]
        }
      ]
    },
    {
      "cell_type": "code",
      "source": [
        "brojevi = [1,2,3,4,5]\n",
        "\n",
        "check_parity (brojevi)"
      ],
      "metadata": {
        "colab": {
          "base_uri": "https://localhost:8080/"
        },
        "id": "y33Rg0ZugtqQ",
        "outputId": "3300cb1c-d71f-4cef-b0e9-f49634e3b438"
      },
      "execution_count": 212,
      "outputs": [
        {
          "output_type": "stream",
          "name": "stdout",
          "text": [
            "1 je neparan\n",
            "2 je paran\n",
            "3 je neparan\n",
            "4 je paran\n",
            "5 je neparan\n"
          ]
        }
      ]
    }
  ]
}